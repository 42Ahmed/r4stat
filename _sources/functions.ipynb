{
 "cells": [
  {
   "cell_type": "markdown",
   "id": "86904956-88ae-4ba8-9759-6837835c4ba4",
   "metadata": {},
   "source": [
    "# Functions"
   ]
  },
  {
   "cell_type": "code",
   "execution_count": null,
   "id": "345b28fd",
   "metadata": {},
   "outputs": [],
   "source": [
    "## Simulation Project"
   ]
  },
  {
   "cell_type": "markdown",
   "id": "2e076110-8e79-4db8-b2c2-c8185a0a17bd",
   "metadata": {},
   "source": [
    "Calculating descriptive statistics of data"
   ]
  },
  {
   "cell_type": "code",
   "execution_count": 1,
   "id": "5d808519-5b26-42af-8292-921fac1703a2",
   "metadata": {},
   "outputs": [
    {
     "data": {
      "text/html": [
       "2"
      ],
      "text/latex": [
       "2"
      ],
      "text/markdown": [
       "2"
      ],
      "text/plain": [
       "[1] 2"
      ]
     },
     "metadata": {},
     "output_type": "display_data"
    },
    {
     "data": {
      "text/html": [
       "2"
      ],
      "text/latex": [
       "2"
      ],
      "text/markdown": [
       "2"
      ],
      "text/plain": [
       "[1] 2"
      ]
     },
     "metadata": {},
     "output_type": "display_data"
    },
    {
     "data": {
      "text/html": [
       "1"
      ],
      "text/latex": [
       "1"
      ],
      "text/markdown": [
       "1"
      ],
      "text/plain": [
       "[1] 1"
      ]
     },
     "metadata": {},
     "output_type": "display_data"
    },
    {
     "data": {
      "text/html": [
       "1"
      ],
      "text/latex": [
       "1"
      ],
      "text/markdown": [
       "1"
      ],
      "text/plain": [
       "[1] 1"
      ]
     },
     "metadata": {},
     "output_type": "display_data"
    }
   ],
   "source": [
    "mean(c(1,2,3))\n",
    "median(c(1,2,3))\n",
    "sd(c(1,2,3))\n",
    "IQR(c(1,2,3))"
   ]
  },
  {
   "cell_type": "markdown",
   "id": "8f3942d0-dcb8-4c47-b252-2b5d00e327c6",
   "metadata": {},
   "source": [
    "we can simplify the code by using a variable"
   ]
  },
  {
   "cell_type": "code",
   "execution_count": 2,
   "id": "64421a27-c02d-44e8-b324-99e2a3650bec",
   "metadata": {},
   "outputs": [
    {
     "data": {
      "text/html": [
       "<style>\n",
       ".list-inline {list-style: none; margin:0; padding: 0}\n",
       ".list-inline>li {display: inline-block}\n",
       ".list-inline>li:not(:last-child)::after {content: \"\\00b7\"; padding: 0 .5ex}\n",
       "</style>\n",
       "<ol class=list-inline><li>1</li><li>2</li><li>3</li></ol>\n"
      ],
      "text/latex": [
       "\\begin{enumerate*}\n",
       "\\item 1\n",
       "\\item 2\n",
       "\\item 3\n",
       "\\end{enumerate*}\n"
      ],
      "text/markdown": [
       "1. 1\n",
       "2. 2\n",
       "3. 3\n",
       "\n",
       "\n"
      ],
      "text/plain": [
       "[1] 1 2 3"
      ]
     },
     "metadata": {},
     "output_type": "display_data"
    },
    {
     "data": {
      "text/html": [
       "2"
      ],
      "text/latex": [
       "2"
      ],
      "text/markdown": [
       "2"
      ],
      "text/plain": [
       "[1] 2"
      ]
     },
     "metadata": {},
     "output_type": "display_data"
    },
    {
     "data": {
      "text/html": [
       "2"
      ],
      "text/latex": [
       "2"
      ],
      "text/markdown": [
       "2"
      ],
      "text/plain": [
       "[1] 2"
      ]
     },
     "metadata": {},
     "output_type": "display_data"
    },
    {
     "data": {
      "text/html": [
       "1"
      ],
      "text/latex": [
       "1"
      ],
      "text/markdown": [
       "1"
      ],
      "text/plain": [
       "[1] 1"
      ]
     },
     "metadata": {},
     "output_type": "display_data"
    },
    {
     "data": {
      "text/html": [
       "1"
      ],
      "text/latex": [
       "1"
      ],
      "text/markdown": [
       "1"
      ],
      "text/plain": [
       "[1] 1"
      ]
     },
     "metadata": {},
     "output_type": "display_data"
    }
   ],
   "source": [
    "# introducing variables\n",
    "x <- c(1,2,3)\n",
    "x\n",
    "mean(x)\n",
    "median(x)\n",
    "sd(x)\n",
    "IQR(x)"
   ]
  },
  {
   "cell_type": "code",
   "execution_count": 3,
   "id": "0b61f43b-8b4e-4195-a802-0332cc51599f",
   "metadata": {},
   "outputs": [
    {
     "data": {
      "text/html": [
       "<style>\n",
       ".list-inline {list-style: none; margin:0; padding: 0}\n",
       ".list-inline>li {display: inline-block}\n",
       ".list-inline>li:not(:last-child)::after {content: \"\\00b7\"; padding: 0 .5ex}\n",
       "</style>\n",
       "<ol class=list-inline><li>5001</li><li>5002</li><li>5003</li></ol>\n"
      ],
      "text/latex": [
       "\\begin{enumerate*}\n",
       "\\item 5001\n",
       "\\item 5002\n",
       "\\item 5003\n",
       "\\end{enumerate*}\n"
      ],
      "text/markdown": [
       "1. 5001\n",
       "2. 5002\n",
       "3. 5003\n",
       "\n",
       "\n"
      ],
      "text/plain": [
       "[1] 5001 5002 5003"
      ]
     },
     "metadata": {},
     "output_type": "display_data"
    },
    {
     "data": {
      "text/html": [
       "5002"
      ],
      "text/latex": [
       "5002"
      ],
      "text/markdown": [
       "5002"
      ],
      "text/plain": [
       "[1] 5002"
      ]
     },
     "metadata": {},
     "output_type": "display_data"
    },
    {
     "data": {
      "text/html": [
       "5002"
      ],
      "text/latex": [
       "5002"
      ],
      "text/markdown": [
       "5002"
      ],
      "text/plain": [
       "[1] 5002"
      ]
     },
     "metadata": {},
     "output_type": "display_data"
    },
    {
     "data": {
      "text/html": [
       "1"
      ],
      "text/latex": [
       "1"
      ],
      "text/markdown": [
       "1"
      ],
      "text/plain": [
       "[1] 1"
      ]
     },
     "metadata": {},
     "output_type": "display_data"
    },
    {
     "data": {
      "text/html": [
       "1"
      ],
      "text/latex": [
       "1"
      ],
      "text/markdown": [
       "1"
      ],
      "text/plain": [
       "[1] 1"
      ]
     },
     "metadata": {},
     "output_type": "display_data"
    }
   ],
   "source": [
    "y <- x + 5000\n",
    "y\n",
    "mean(y)\n",
    "median(y)\n",
    "sd(y)\n",
    "IQR(y)"
   ]
  },
  {
   "cell_type": "code",
   "execution_count": 4,
   "id": "e6c0de6b-956a-478c-9830-1d76a6de5510",
   "metadata": {},
   "outputs": [
    {
     "data": {
      "text/html": [
       "<style>\n",
       ".list-inline {list-style: none; margin:0; padding: 0}\n",
       ".list-inline>li {display: inline-block}\n",
       ".list-inline>li:not(:last-child)::after {content: \"\\00b7\"; padding: 0 .5ex}\n",
       "</style>\n",
       "<ol class=list-inline><li>1.05</li><li>2.1</li><li>3.15</li></ol>\n"
      ],
      "text/latex": [
       "\\begin{enumerate*}\n",
       "\\item 1.05\n",
       "\\item 2.1\n",
       "\\item 3.15\n",
       "\\end{enumerate*}\n"
      ],
      "text/markdown": [
       "1. 1.05\n",
       "2. 2.1\n",
       "3. 3.15\n",
       "\n",
       "\n"
      ],
      "text/plain": [
       "[1] 1.05 2.10 3.15"
      ]
     },
     "metadata": {},
     "output_type": "display_data"
    },
    {
     "data": {
      "text/html": [
       "2.1"
      ],
      "text/latex": [
       "2.1"
      ],
      "text/markdown": [
       "2.1"
      ],
      "text/plain": [
       "[1] 2.1"
      ]
     },
     "metadata": {},
     "output_type": "display_data"
    },
    {
     "data": {
      "text/html": [
       "2.1"
      ],
      "text/latex": [
       "2.1"
      ],
      "text/markdown": [
       "2.1"
      ],
      "text/plain": [
       "[1] 2.1"
      ]
     },
     "metadata": {},
     "output_type": "display_data"
    },
    {
     "data": {
      "text/html": [
       "1.05"
      ],
      "text/latex": [
       "1.05"
      ],
      "text/markdown": [
       "1.05"
      ],
      "text/plain": [
       "[1] 1.05"
      ]
     },
     "metadata": {},
     "output_type": "display_data"
    },
    {
     "data": {
      "text/html": [
       "1.05"
      ],
      "text/latex": [
       "1.05"
      ],
      "text/markdown": [
       "1.05"
      ],
      "text/plain": [
       "[1] 1.05"
      ]
     },
     "metadata": {},
     "output_type": "display_data"
    }
   ],
   "source": [
    "z <- x + (x * 0.05)\n",
    "z\n",
    "mean(z)\n",
    "median(z)\n",
    "sd(z)\n",
    "IQR(z)"
   ]
  },
  {
   "cell_type": "code",
   "execution_count": null,
   "id": "00558368-9a07-45b4-aa1a-996bc2f3e24b",
   "metadata": {},
   "outputs": [],
   "source": []
  },
  {
   "cell_type": "code",
   "execution_count": 5,
   "id": "07470451-f49c-4ba7-b426-4b3503218a9c",
   "metadata": {},
   "outputs": [
    {
     "data": {
      "text/html": [
       "<style>\n",
       ".list-inline {list-style: none; margin:0; padding: 0}\n",
       ".list-inline>li {display: inline-block}\n",
       ".list-inline>li:not(:last-child)::after {content: \"\\00b7\"; padding: 0 .5ex}\n",
       "</style>\n",
       "<ol class=list-inline><li>196</li><li>50</li><li>26</li><li>176</li><li>19</li><li>113</li><li>91</li><li>28</li><li>1</li><li>66</li><li>18</li><li>161</li><li>79</li><li>135</li><li>186</li><li>150</li><li>141</li><li>153</li><li>163</li><li>7</li></ol>\n"
      ],
      "text/latex": [
       "\\begin{enumerate*}\n",
       "\\item 196\n",
       "\\item 50\n",
       "\\item 26\n",
       "\\item 176\n",
       "\\item 19\n",
       "\\item 113\n",
       "\\item 91\n",
       "\\item 28\n",
       "\\item 1\n",
       "\\item 66\n",
       "\\item 18\n",
       "\\item 161\n",
       "\\item 79\n",
       "\\item 135\n",
       "\\item 186\n",
       "\\item 150\n",
       "\\item 141\n",
       "\\item 153\n",
       "\\item 163\n",
       "\\item 7\n",
       "\\end{enumerate*}\n"
      ],
      "text/markdown": [
       "1. 196\n",
       "2. 50\n",
       "3. 26\n",
       "4. 176\n",
       "5. 19\n",
       "6. 113\n",
       "7. 91\n",
       "8. 28\n",
       "9. 1\n",
       "10. 66\n",
       "11. 18\n",
       "12. 161\n",
       "13. 79\n",
       "14. 135\n",
       "15. 186\n",
       "16. 150\n",
       "17. 141\n",
       "18. 153\n",
       "19. 163\n",
       "20. 7\n",
       "\n",
       "\n"
      ],
      "text/plain": [
       " [1] 196  50  26 176  19 113  91  28   1  66  18 161  79 135 186 150 141 153 163\n",
       "[20]   7"
      ]
     },
     "metadata": {},
     "output_type": "display_data"
    },
    {
     "data": {
      "text/html": [
       "97.95"
      ],
      "text/latex": [
       "97.95"
      ],
      "text/markdown": [
       "97.95"
      ],
      "text/plain": [
       "[1] 97.95"
      ]
     },
     "metadata": {},
     "output_type": "display_data"
    },
    {
     "data": {
      "text/html": [
       "102"
      ],
      "text/latex": [
       "102"
      ],
      "text/markdown": [
       "102"
      ],
      "text/plain": [
       "[1] 102"
      ]
     },
     "metadata": {},
     "output_type": "display_data"
    },
    {
     "data": {
      "text/html": [
       "66.8663041567197"
      ],
      "text/latex": [
       "66.8663041567197"
      ],
      "text/markdown": [
       "66.8663041567197"
      ],
      "text/plain": [
       "[1] 66.8663"
      ]
     },
     "metadata": {},
     "output_type": "display_data"
    },
    {
     "data": {
      "text/html": [
       "127.5"
      ],
      "text/latex": [
       "127.5"
      ],
      "text/markdown": [
       "127.5"
      ],
      "text/plain": [
       "[1] 127.5"
      ]
     },
     "metadata": {},
     "output_type": "display_data"
    }
   ],
   "source": [
    "a <- sample.int(200,20)\n",
    "a\n",
    "mean(a)\n",
    "median(a)\n",
    "sd(a)\n",
    "IQR(a)"
   ]
  },
  {
   "cell_type": "code",
   "execution_count": 6,
   "id": "c4e77d82-36db-4066-8b29-733ce143e92a",
   "metadata": {},
   "outputs": [
    {
     "data": {
      "text/html": [
       "<style>\n",
       ".list-inline {list-style: none; margin:0; padding: 0}\n",
       ".list-inline>li {display: inline-block}\n",
       ".list-inline>li:not(:last-child)::after {content: \"\\00b7\"; padding: 0 .5ex}\n",
       "</style>\n",
       "<ol class=list-inline><li>49</li><li>65</li><li>153</li><li>74</li><li>146</li><li>122</li><li>200</li><li>128</li><li>47</li><li>24</li><li>71</li><li>100</li><li>89</li><li>165</li><li>110</li><li>20</li><li>154</li><li>114</li><li>111</li><li>131</li></ol>\n"
      ],
      "text/latex": [
       "\\begin{enumerate*}\n",
       "\\item 49\n",
       "\\item 65\n",
       "\\item 153\n",
       "\\item 74\n",
       "\\item 146\n",
       "\\item 122\n",
       "\\item 200\n",
       "\\item 128\n",
       "\\item 47\n",
       "\\item 24\n",
       "\\item 71\n",
       "\\item 100\n",
       "\\item 89\n",
       "\\item 165\n",
       "\\item 110\n",
       "\\item 20\n",
       "\\item 154\n",
       "\\item 114\n",
       "\\item 111\n",
       "\\item 131\n",
       "\\end{enumerate*}\n"
      ],
      "text/markdown": [
       "1. 49\n",
       "2. 65\n",
       "3. 153\n",
       "4. 74\n",
       "5. 146\n",
       "6. 122\n",
       "7. 200\n",
       "8. 128\n",
       "9. 47\n",
       "10. 24\n",
       "11. 71\n",
       "12. 100\n",
       "13. 89\n",
       "14. 165\n",
       "15. 110\n",
       "16. 20\n",
       "17. 154\n",
       "18. 114\n",
       "19. 111\n",
       "20. 131\n",
       "\n",
       "\n"
      ],
      "text/plain": [
       " [1]  49  65 153  74 146 122 200 128  47  24  71 100  89 165 110  20 154 114 111\n",
       "[20] 131"
      ]
     },
     "metadata": {},
     "output_type": "display_data"
    },
    {
     "data": {
      "text/html": [
       "103.65"
      ],
      "text/latex": [
       "103.65"
      ],
      "text/markdown": [
       "103.65"
      ],
      "text/plain": [
       "[1] 103.65"
      ]
     },
     "metadata": {},
     "output_type": "display_data"
    },
    {
     "data": {
      "text/html": [
       "110.5"
      ],
      "text/latex": [
       "110.5"
      ],
      "text/markdown": [
       "110.5"
      ],
      "text/plain": [
       "[1] 110.5"
      ]
     },
     "metadata": {},
     "output_type": "display_data"
    },
    {
     "data": {
      "text/html": [
       "48.6093720658021"
      ],
      "text/latex": [
       "48.6093720658021"
      ],
      "text/markdown": [
       "48.6093720658021"
      ],
      "text/plain": [
       "[1] 48.60937"
      ]
     },
     "metadata": {},
     "output_type": "display_data"
    },
    {
     "data": {
      "text/html": [
       "65.25"
      ],
      "text/latex": [
       "65.25"
      ],
      "text/markdown": [
       "65.25"
      ],
      "text/plain": [
       "[1] 65.25"
      ]
     },
     "metadata": {},
     "output_type": "display_data"
    }
   ],
   "source": [
    "set.seed(42)\n",
    "a <- sample.int(200,20)\n",
    "a\n",
    "mean(a)\n",
    "median(a)\n",
    "sd(a)\n",
    "IQR(a)"
   ]
  },
  {
   "cell_type": "code",
   "execution_count": 7,
   "id": "0eebbcea-2bc7-440d-8c49-4021471021e2",
   "metadata": {},
   "outputs": [],
   "source": [
    "descriptive <- function(data){\n",
    "    print(mean(data))\n",
    "    print(median(data))\n",
    "    print(sd(data))\n",
    "    print(IQR(data))\n",
    "    }"
   ]
  },
  {
   "cell_type": "code",
   "execution_count": 8,
   "id": "356036ee-83a7-40f3-b926-da61edc7c9b5",
   "metadata": {},
   "outputs": [
    {
     "name": "stdout",
     "output_type": "stream",
     "text": [
      "[1] 103.65\n",
      "[1] 110.5\n",
      "[1] 48.60937\n",
      "[1] 65.25\n"
     ]
    }
   ],
   "source": [
    "descriptive(a)"
   ]
  },
  {
   "cell_type": "code",
   "execution_count": 9,
   "id": "ca49a42f-f47d-4cc4-8461-9ac34ec109bb",
   "metadata": {},
   "outputs": [
    {
     "name": "stdout",
     "output_type": "stream",
     "text": [
      "[1] 5103.65\n",
      "[1] 5110.5\n",
      "[1] 48.60937\n",
      "[1] 65.25\n"
     ]
    }
   ],
   "source": [
    "b <- a + 5000\n",
    "descriptive(b)"
   ]
  },
  {
   "cell_type": "code",
   "execution_count": 10,
   "id": "c30da06f-ad90-4c35-987b-fe22e5ee347c",
   "metadata": {},
   "outputs": [
    {
     "name": "stdout",
     "output_type": "stream",
     "text": [
      "[1] 108.8325\n",
      "[1] 116.025\n",
      "[1] 51.03984\n",
      "[1] 68.5125\n"
     ]
    }
   ],
   "source": [
    "c <- a + ( a * 0.05)\n",
    "descriptive(c)"
   ]
  },
  {
   "cell_type": "code",
   "execution_count": 11,
   "id": "2c83c407-624a-4818-8d75-dd5f61ff3be5",
   "metadata": {},
   "outputs": [
    {
     "data": {
      "text/html": [
       "<style>\n",
       ".list-inline {list-style: none; margin:0; padding: 0}\n",
       ".list-inline>li {display: inline-block}\n",
       ".list-inline>li:not(:last-child)::after {content: \"\\00b7\"; padding: 0 .5ex}\n",
       "</style>\n",
       "<ol class=list-inline><li>49</li><li>65</li><li>153</li><li>74</li><li>146</li><li>122</li><li>200</li><li>128</li><li>47</li><li>24</li><li>71</li><li>100</li><li>89</li><li>165</li><li>110</li><li>20</li><li>154</li><li>114</li><li>111</li><li>131</li></ol>\n"
      ],
      "text/latex": [
       "\\begin{enumerate*}\n",
       "\\item 49\n",
       "\\item 65\n",
       "\\item 153\n",
       "\\item 74\n",
       "\\item 146\n",
       "\\item 122\n",
       "\\item 200\n",
       "\\item 128\n",
       "\\item 47\n",
       "\\item 24\n",
       "\\item 71\n",
       "\\item 100\n",
       "\\item 89\n",
       "\\item 165\n",
       "\\item 110\n",
       "\\item 20\n",
       "\\item 154\n",
       "\\item 114\n",
       "\\item 111\n",
       "\\item 131\n",
       "\\end{enumerate*}\n"
      ],
      "text/markdown": [
       "1. 49\n",
       "2. 65\n",
       "3. 153\n",
       "4. 74\n",
       "5. 146\n",
       "6. 122\n",
       "7. 200\n",
       "8. 128\n",
       "9. 47\n",
       "10. 24\n",
       "11. 71\n",
       "12. 100\n",
       "13. 89\n",
       "14. 165\n",
       "15. 110\n",
       "16. 20\n",
       "17. 154\n",
       "18. 114\n",
       "19. 111\n",
       "20. 131\n",
       "\n",
       "\n"
      ],
      "text/plain": [
       " [1]  49  65 153  74 146 122 200 128  47  24  71 100  89 165 110  20 154 114 111\n",
       "[20] 131"
      ]
     },
     "metadata": {},
     "output_type": "display_data"
    },
    {
     "name": "stdout",
     "output_type": "stream",
     "text": [
      "[1] 103.65\n",
      "[1] 110.5\n",
      "[1] 48.60937\n",
      "[1] 65.25\n",
      "[1] 5103.65\n",
      "[1] 5110.5\n",
      "[1] 48.60937\n",
      "[1] 65.25\n",
      "[1] 108.8325\n",
      "[1] 116.025\n",
      "[1] 51.03984\n",
      "[1] 68.5125\n"
     ]
    }
   ],
   "source": [
    "set.seed(42)\n",
    "a <- sample.int(200,20)\n",
    "a\n",
    "\n",
    "descriptive <- function(data){\n",
    "    print(mean(data))\n",
    "    print(median(data))\n",
    "    print(sd(data))\n",
    "    print(IQR(data))\n",
    "    }\n",
    "\n",
    "descriptive(a)\n",
    "\n",
    "b <- a + 5000\n",
    "descriptive(b)\n",
    "\n",
    "c <- a + ( a * 0.05)\n",
    "descriptive(c)"
   ]
  },
  {
   "cell_type": "code",
   "execution_count": 12,
   "id": "4581588d-ff8e-4387-b9df-2f5801f3afee",
   "metadata": {},
   "outputs": [
    {
     "data": {
      "text/html": [
       "1.05"
      ],
      "text/latex": [
       "1.05"
      ],
      "text/markdown": [
       "1.05"
      ],
      "text/plain": [
       "[1] 1.05"
      ]
     },
     "metadata": {},
     "output_type": "display_data"
    }
   ],
   "source": [
    "108.8325 / 103.65"
   ]
  },
  {
   "cell_type": "code",
   "execution_count": 13,
   "id": "b4fc5d8f-6365-411c-a812-e06feb5acac3",
   "metadata": {},
   "outputs": [
    {
     "data": {
      "text/html": [
       "1.05"
      ],
      "text/latex": [
       "1.05"
      ],
      "text/markdown": [
       "1.05"
      ],
      "text/plain": [
       "[1] 1.05"
      ]
     },
     "metadata": {},
     "output_type": "display_data"
    }
   ],
   "source": [
    "116.025 / 110.5"
   ]
  },
  {
   "cell_type": "code",
   "execution_count": 14,
   "id": "51665540-a792-4762-a6e0-9c61337430e4",
   "metadata": {},
   "outputs": [
    {
     "data": {
      "text/html": [
       "1.05000003085825"
      ],
      "text/latex": [
       "1.05000003085825"
      ],
      "text/markdown": [
       "1.05000003085825"
      ],
      "text/plain": [
       "[1] 1.05"
      ]
     },
     "metadata": {},
     "output_type": "display_data"
    }
   ],
   "source": [
    "51.03984 / 48.60937"
   ]
  },
  {
   "cell_type": "code",
   "execution_count": 15,
   "id": "aa684754-fde6-4573-814e-a12831ea2e72",
   "metadata": {},
   "outputs": [
    {
     "data": {
      "text/html": [
       "1.05"
      ],
      "text/latex": [
       "1.05"
      ],
      "text/markdown": [
       "1.05"
      ],
      "text/plain": [
       "[1] 1.05"
      ]
     },
     "metadata": {},
     "output_type": "display_data"
    }
   ],
   "source": [
    "68.5125 / 65.25"
   ]
  },
  {
   "cell_type": "markdown",
   "id": "c592588d-5bf1-4a72-8d9f-129642c4b7d5",
   "metadata": {},
   "source": [
    "## Full project"
   ]
  },
  {
   "cell_type": "code",
   "execution_count": 16,
   "id": "615c5507-a050-46ed-a38b-79fa3882a457",
   "metadata": {},
   "outputs": [
    {
     "name": "stdout",
     "output_type": "stream",
     "text": [
      "[1] \"Descriptive Statistics:\"\n",
      "[1] \"Mean: 103.65\"\n",
      "[1] \"Median: 110.5\"\n",
      "[1] \"Standard Deviation: 48.6093720658021\"\n",
      "[1] \"Interquartile Range: 65.25\"\n",
      "[1] \"Descriptive Statistics:\"\n",
      "[1] \"Mean: 5103.65\"\n",
      "[1] \"Median: 5110.5\"\n",
      "[1] \"Standard Deviation: 48.6093720658021\"\n",
      "[1] \"Interquartile Range: 65.25\"\n"
     ]
    },
    {
     "data": {
      "text/html": [
       "<dl>\n",
       "\t<dt>$mean</dt>\n",
       "\t\t<dd>5103.65</dd>\n",
       "\t<dt>$median</dt>\n",
       "\t\t<dd>5110.5</dd>\n",
       "\t<dt>$sd</dt>\n",
       "\t\t<dd>48.6093720658021</dd>\n",
       "\t<dt>$iqr</dt>\n",
       "\t\t<dd>65.25</dd>\n",
       "</dl>\n"
      ],
      "text/latex": [
       "\\begin{description}\n",
       "\\item[\\$mean] 5103.65\n",
       "\\item[\\$median] 5110.5\n",
       "\\item[\\$sd] 48.6093720658021\n",
       "\\item[\\$iqr] 65.25\n",
       "\\end{description}\n"
      ],
      "text/markdown": [
       "$mean\n",
       ":   5103.65\n",
       "$median\n",
       ":   5110.5\n",
       "$sd\n",
       ":   48.6093720658021\n",
       "$iqr\n",
       ":   65.25\n",
       "\n",
       "\n"
      ],
      "text/plain": [
       "$mean\n",
       "[1] 5103.65\n",
       "\n",
       "$median\n",
       "[1] 5110.5\n",
       "\n",
       "$sd\n",
       "[1] 48.60937\n",
       "\n",
       "$iqr\n",
       "[1] 65.25\n"
      ]
     },
     "metadata": {},
     "output_type": "display_data"
    },
    {
     "name": "stdout",
     "output_type": "stream",
     "text": [
      "[1] \"Descriptive Statistics:\"\n",
      "[1] \"Mean: 108.8325\"\n",
      "[1] \"Median: 116.025\"\n",
      "[1] \"Standard Deviation: 51.0398406690922\"\n",
      "[1] \"Interquartile Range: 68.5125\"\n",
      "[1] \"Ratio of Descriptive Statistics:\"\n",
      "[1] \"Mean Ratio: 1.05\"\n",
      "[1] \"Median Ratio: 1.05\"\n",
      "[1] \"Standard Deviation Ratio: 1.05\"\n",
      "[1] \"Interquartile Range Ratio: 1.05\"\n"
     ]
    }
   ],
   "source": [
    "set.seed(42)\n",
    "a <- sample.int(200, 20)\n",
    "\n",
    "descriptive <- function(data) {\n",
    "  mean_val <- mean(data)\n",
    "  median_val <- median(data)\n",
    "  sd_val <- sd(data)\n",
    "  iqr_val <- IQR(data)\n",
    "  \n",
    "  print(\"Descriptive Statistics:\")\n",
    "  print(paste(\"Mean:\", mean_val))\n",
    "  print(paste(\"Median:\", median_val))\n",
    "  print(paste(\"Standard Deviation:\", sd_val))\n",
    "  print(paste(\"Interquartile Range:\", iqr_val))\n",
    "  \n",
    "  return(list(mean = mean_val, median = median_val, sd = sd_val, iqr = iqr_val))\n",
    "}\n",
    "\n",
    "a_stats <- descriptive(a)\n",
    "\n",
    "\n",
    "b <- a + 5000\n",
    "descriptive(b)\n",
    "\n",
    "c <- a + (a * 0.05)\n",
    "c_stats <- descriptive(c)\n",
    "\n",
    "calculate_ratio <- function(stats1, stats2) {\n",
    "  ratio_mean <- stats2$mean / stats1$mean\n",
    "  ratio_median <- stats2$median / stats1$median\n",
    "  ratio_sd <- stats2$sd / stats1$sd\n",
    "  ratio_iqr <- stats2$iqr / stats1$iqr\n",
    "  \n",
    "  print(\"Ratio of Descriptive Statistics:\")\n",
    "  print(paste(\"Mean Ratio:\", ratio_mean))\n",
    "  print(paste(\"Median Ratio:\", ratio_median))\n",
    "  print(paste(\"Standard Deviation Ratio:\", ratio_sd))\n",
    "  print(paste(\"Interquartile Range Ratio:\", ratio_iqr))\n",
    "}\n",
    "\n",
    "calculate_ratio(a_stats, c_stats)"
   ]
  },
  {
   "cell_type": "markdown",
   "id": "390203ed-7a3d-4ec6-afec-c9671c5c057f",
   "metadata": {},
   "source": [
    "## Reading input"
   ]
  },
  {
   "cell_type": "code",
   "execution_count": 17,
   "id": "71158d7a-9f23-4a46-a2ae-8c28f917a839",
   "metadata": {},
   "outputs": [
    {
     "name": "stdout",
     "output_type": "stream",
     "text": [
      " 21\n"
     ]
    },
    {
     "data": {
      "text/html": [
       "'character'"
      ],
      "text/latex": [
       "'character'"
      ],
      "text/markdown": [
       "'character'"
      ],
      "text/plain": [
       "[1] \"character\""
      ]
     },
     "metadata": {},
     "output_type": "display_data"
    },
    {
     "data": {
      "text/html": [
       "'integer'"
      ],
      "text/latex": [
       "'integer'"
      ],
      "text/markdown": [
       "'integer'"
      ],
      "text/plain": [
       "[1] \"integer\""
      ]
     },
     "metadata": {},
     "output_type": "display_data"
    }
   ],
   "source": [
    "age <- readline()\n",
    "class(age)\n",
    "age <- as.integer(age)\n",
    "class(age)"
   ]
  },
  {
   "cell_type": "code",
   "execution_count": 18,
   "id": "96a94319-f0ab-42c1-9cc8-bfe0d76b7247",
   "metadata": {},
   "outputs": [
    {
     "name": "stdout",
     "output_type": "stream",
     "text": [
      " 21\n"
     ]
    },
    {
     "data": {
      "text/html": [
       "'integer'"
      ],
      "text/latex": [
       "'integer'"
      ],
      "text/markdown": [
       "'integer'"
      ],
      "text/plain": [
       "[1] \"integer\""
      ]
     },
     "metadata": {},
     "output_type": "display_data"
    }
   ],
   "source": [
    "age <- as.integer(trimws(readline())) # nesting functions\n",
    "class(age)"
   ]
  },
  {
   "cell_type": "markdown",
   "id": "e9ebdb54-2399-4876-b92b-6fab8e44f4ae",
   "metadata": {},
   "source": [
    "## Pipes and packages"
   ]
  },
  {
   "cell_type": "code",
   "execution_count": 19,
   "id": "95c3ea28-1b15-4fa4-963a-40a2dcdedba1",
   "metadata": {},
   "outputs": [],
   "source": [
    "# install.packages('magrittr')"
   ]
  },
  {
   "cell_type": "code",
   "execution_count": 20,
   "id": "4f791b67-d522-4e2a-818f-beffa07f7360",
   "metadata": {},
   "outputs": [],
   "source": [
    "library(magrittr) #pronounced magriter"
   ]
  },
  {
   "cell_type": "code",
   "execution_count": 21,
   "id": "c738fe2d-5b6e-4aeb-85b1-2bdb45785c39",
   "metadata": {},
   "outputs": [
    {
     "name": "stdout",
     "output_type": "stream",
     "text": [
      "Enter your age:  21\n"
     ]
    },
    {
     "data": {
      "text/html": [
       "'integer'"
      ],
      "text/latex": [
       "'integer'"
      ],
      "text/markdown": [
       "'integer'"
      ],
      "text/plain": [
       "[1] \"integer\""
      ]
     },
     "metadata": {},
     "output_type": "display_data"
    }
   ],
   "source": [
    "age <- readline('Enter your age: ') %>%\n",
    "  trimws() %>%\n",
    "  as.integer() \n",
    "\n",
    "class(age)"
   ]
  },
  {
   "cell_type": "markdown",
   "id": "6d7bec6b-7db3-4a80-8f9c-89d49ef2411b",
   "metadata": {},
   "source": [
    "## Base_r pipe"
   ]
  },
  {
   "cell_type": "code",
   "execution_count": 22,
   "id": "d5259f6c-8294-4a37-a055-849ac6b35982",
   "metadata": {},
   "outputs": [
    {
     "name": "stdout",
     "output_type": "stream",
     "text": [
      "Enter your age:  21\n"
     ]
    },
    {
     "data": {
      "text/html": [
       "'integer'"
      ],
      "text/latex": [
       "'integer'"
      ],
      "text/markdown": [
       "'integer'"
      ],
      "text/plain": [
       "[1] \"integer\""
      ]
     },
     "metadata": {},
     "output_type": "display_data"
    }
   ],
   "source": [
    "age <- readline('Enter your age: ') |>\n",
    "  trimws() |>\n",
    "  as.integer() \n",
    "\n",
    "class(age)"
   ]
  },
  {
   "cell_type": "markdown",
   "id": "257c8667-a8d4-455d-96af-b6df47439f38",
   "metadata": {},
   "source": [
    "## Function arguments"
   ]
  },
  {
   "cell_type": "code",
   "execution_count": 23,
   "id": "5b6f32a2-a32d-4de8-934e-20abe3c77ebe",
   "metadata": {},
   "outputs": [
    {
     "data": {
      "text/html": [
       "1.09861228866811"
      ],
      "text/latex": [
       "1.09861228866811"
      ],
      "text/markdown": [
       "1.09861228866811"
      ],
      "text/plain": [
       "[1] 1.098612"
      ]
     },
     "metadata": {},
     "output_type": "display_data"
    }
   ],
   "source": [
    "log(3)"
   ]
  },
  {
   "cell_type": "code",
   "execution_count": 24,
   "id": "a2a32d80-b44e-4cc0-86c8-c19d9405b2a3",
   "metadata": {},
   "outputs": [
    {
     "data": {
      "text/html": [
       "<pre class=language-r><code>function (x, base = exp(1)) \n",
       "NULL</code></pre>"
      ],
      "text/latex": [
       "\\begin{minted}{r}\n",
       "function (x, base = exp(1)) \n",
       "NULL\n",
       "\\end{minted}"
      ],
      "text/markdown": [
       "```r\n",
       "function (x, base = exp(1)) \n",
       "NULL\n",
       "```"
      ],
      "text/plain": [
       "function (x, base = exp(1)) \n",
       "NULL"
      ]
     },
     "metadata": {},
     "output_type": "display_data"
    }
   ],
   "source": [
    "args(log)"
   ]
  },
  {
   "cell_type": "code",
   "execution_count": 25,
   "id": "e4183738-09b4-4626-99ff-164968d7ad8c",
   "metadata": {},
   "outputs": [
    {
     "data": {
      "text/html": [
       "1.58496250072116"
      ],
      "text/latex": [
       "1.58496250072116"
      ],
      "text/markdown": [
       "1.58496250072116"
      ],
      "text/plain": [
       "[1] 1.584963"
      ]
     },
     "metadata": {},
     "output_type": "display_data"
    }
   ],
   "source": [
    "log(3,2)"
   ]
  },
  {
   "cell_type": "code",
   "execution_count": 26,
   "id": "94bac520-d2f9-4216-b5bc-1ce5979a8dcc",
   "metadata": {},
   "outputs": [
    {
     "data": {
      "text/html": [
       "1.58496250072116"
      ],
      "text/latex": [
       "1.58496250072116"
      ],
      "text/markdown": [
       "1.58496250072116"
      ],
      "text/plain": [
       "[1] 1.584963"
      ]
     },
     "metadata": {},
     "output_type": "display_data"
    }
   ],
   "source": [
    "log(base=2,x=3)"
   ]
  },
  {
   "cell_type": "code",
   "execution_count": 27,
   "id": "f1eb2273-f6fb-4e80-b160-25a93983fbba",
   "metadata": {},
   "outputs": [
    {
     "data": {
      "text/html": [
       "1.58496250072116"
      ],
      "text/latex": [
       "1.58496250072116"
      ],
      "text/markdown": [
       "1.58496250072116"
      ],
      "text/plain": [
       "[1] 1.584963"
      ]
     },
     "metadata": {},
     "output_type": "display_data"
    }
   ],
   "source": [
    "log(x = 3, base = 2)"
   ]
  },
  {
   "cell_type": "markdown",
   "id": "7aa951ca-4b38-43fe-86eb-8d2c9ce8ed4f",
   "metadata": {},
   "source": [
    "## print, paste, and return"
   ]
  },
  {
   "cell_type": "code",
   "execution_count": 28,
   "id": "803cdfc1-38b1-4ff4-abe3-271fbce91c7a",
   "metadata": {},
   "outputs": [
    {
     "name": "stdout",
     "output_type": "stream",
     "text": [
      "[1] 10\n"
     ]
    }
   ],
   "source": [
    "my_function <- function(x) {\n",
    "  print(x) \n",
    "}\n",
    "\n",
    "my_function(10)"
   ]
  },
  {
   "cell_type": "code",
   "execution_count": 29,
   "id": "786dad36-2272-466e-b51f-7837fecd7751",
   "metadata": {},
   "outputs": [],
   "source": [
    "my_function <- function(x = 10) {\n",
    "  print('hi')\n",
    "  return(x)  \n",
    "}\n",
    " "
   ]
  },
  {
   "cell_type": "code",
   "execution_count": 30,
   "id": "ad1c9abe-7fb0-4d2e-af97-d9860908e1a0",
   "metadata": {},
   "outputs": [
    {
     "name": "stdout",
     "output_type": "stream",
     "text": [
      "[1] \"hi\"\n"
     ]
    }
   ],
   "source": [
    "result <- my_function()"
   ]
  },
  {
   "cell_type": "code",
   "execution_count": 31,
   "id": "e95315a8-65db-42ef-a3b6-b654d419bbcd",
   "metadata": {},
   "outputs": [
    {
     "name": "stdout",
     "output_type": "stream",
     "text": [
      "[1] 10\n"
     ]
    }
   ],
   "source": [
    "print(result)"
   ]
  },
  {
   "cell_type": "code",
   "execution_count": 32,
   "id": "a714c1a6-ea66-4e4b-936e-25b3574e1349",
   "metadata": {},
   "outputs": [
    {
     "name": "stdout",
     "output_type": "stream",
     "text": [
      "[1] \"my age is\"\n"
     ]
    }
   ],
   "source": [
    "age <- 21\n",
    "print('my age is', age)"
   ]
  },
  {
   "cell_type": "code",
   "execution_count": 33,
   "id": "69377635-088a-409d-a1e8-2be829ad159e",
   "metadata": {},
   "outputs": [
    {
     "name": "stdout",
     "output_type": "stream",
     "text": [
      "[1] \"my age is 21\"\n"
     ]
    }
   ],
   "source": [
    "print(paste('my age is', age))"
   ]
  },
  {
   "cell_type": "code",
   "execution_count": 34,
   "id": "cb8c7aba-1cf0-4b04-b366-9dac702a4135",
   "metadata": {},
   "outputs": [
    {
     "name": "stdout",
     "output_type": "stream",
     "text": [
      "[1] \"my age is21\"\n"
     ]
    }
   ],
   "source": [
    "print(paste0('my age is', age))"
   ]
  },
  {
   "cell_type": "code",
   "execution_count": 35,
   "id": "03f24406-fd95-4745-a87b-ba5a0308a012",
   "metadata": {},
   "outputs": [],
   "source": [
    "meany <- function(data){\n",
    "    return (sum(data) / length(data))    \n",
    "}\n"
   ]
  },
  {
   "cell_type": "code",
   "execution_count": 36,
   "id": "44840501-17e5-4764-8448-6af5938bbc9f",
   "metadata": {},
   "outputs": [
    {
     "data": {
      "text/html": [
       "2"
      ],
      "text/latex": [
       "2"
      ],
      "text/markdown": [
       "2"
      ],
      "text/plain": [
       "[1] 2"
      ]
     },
     "metadata": {},
     "output_type": "display_data"
    }
   ],
   "source": [
    "meany(c(1,2,3))"
   ]
  },
  {
   "cell_type": "code",
   "execution_count": 37,
   "id": "7d2489cf-8cbe-4790-b995-16f3103be68f",
   "metadata": {},
   "outputs": [
    {
     "data": {
      "text/html": [
       "TRUE"
      ],
      "text/latex": [
       "TRUE"
      ],
      "text/markdown": [
       "TRUE"
      ],
      "text/plain": [
       "[1] TRUE"
      ]
     },
     "metadata": {},
     "output_type": "display_data"
    }
   ],
   "source": [
    "identical(mean(c(1,2,3)),meany(c(1,2,3)))"
   ]
  },
  {
   "cell_type": "markdown",
   "id": "6d12c922-49a0-419f-85fb-84675839210f",
   "metadata": {},
   "source": [
    "## Solving quadratic equations"
   ]
  },
  {
   "cell_type": "code",
   "execution_count": 38,
   "id": "b93d5293-9882-4459-b087-f6d88a55e03d",
   "metadata": {},
   "outputs": [],
   "source": [
    "root <- function(a,b,c){\n",
    "    root1 <- ((-b + sqrt(b^2 - 4 * a * c))/ (2 * a))\n",
    "    root2 <- ((-b - sqrt(b^2 - 4 * a * c))/ (2 * a))\n",
    "    return (list(root1 = root1, root2= root2)) \n",
    "                       }\n"
   ]
  },
  {
   "cell_type": "code",
   "execution_count": 39,
   "id": "a22f5a2f-54b1-4a8d-a5be-723efabdfedd",
   "metadata": {},
   "outputs": [
    {
     "name": "stdout",
     "output_type": "stream",
     "text": [
      "$root1\n",
      "[1] 5\n",
      "\n",
      "$root2\n",
      "[1] -3\n",
      "\n"
     ]
    }
   ],
   "source": [
    "print(root(1, -2, -15))"
   ]
  },
  {
   "cell_type": "code",
   "execution_count": 40,
   "id": "8e0b2d48-8eac-434f-9f90-f131b8457927",
   "metadata": {},
   "outputs": [
    {
     "name": "stdout",
     "output_type": "stream",
     "text": [
      "[1]  5+0i -3+0i\n"
     ]
    }
   ],
   "source": [
    "a <- 1\n",
    "b <- -2\n",
    "c <- -15\n",
    "\n",
    "solutions <- polyroot(c(c, b, a))\n",
    "\n",
    "print(solutions)"
   ]
  }
 ],
 "metadata": {
  "kernelspec": {
   "display_name": "Julia 1.8.5",
   "language": "julia",
   "name": "julia-1.8"
  },
  "language_info": {
   "codemirror_mode": "r",
   "file_extension": ".r",
   "mimetype": "text/x-r-source",
   "name": "julia",
   "pygments_lexer": "r",
   "version": "4.1.3"
  }
 },
 "nbformat": 4,
 "nbformat_minor": 5
}
